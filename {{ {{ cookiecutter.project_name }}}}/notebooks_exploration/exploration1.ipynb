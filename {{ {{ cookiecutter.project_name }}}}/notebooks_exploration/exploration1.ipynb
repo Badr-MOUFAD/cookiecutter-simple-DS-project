{
 "cells": [
  {
   "cell_type": "code",
   "execution_count": null,
   "source": [
    "# change current directory to the project directory\r\n",
    "import os\r\n",
    "\r\n",
    "# change directory\r\n",
    "os.chdir(\"../\")\r\n",
    "\r\n",
    "# print current directory\r\n",
    "os.getcwd()"
   ],
   "outputs": [],
   "metadata": {}
  }
 ],
 "metadata": {
  "orig_nbformat": 4,
  "language_info": {
   "name": "python"
  }
 },
 "nbformat": 4,
 "nbformat_minor": 2
}